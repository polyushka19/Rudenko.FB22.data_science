{
 "cells": [
  {
   "cell_type": "code",
   "execution_count": 381,
   "metadata": {},
   "outputs": [],
   "source": [
    "import pandas as pd\n",
    "import numpy as np\n",
    "import timeit as tt\n",
    "import datetime as dt"
   ]
  },
  {
   "cell_type": "markdown",
   "metadata": {},
   "source": [
    "### Pandas"
   ]
  },
  {
   "cell_type": "code",
   "execution_count": 382,
   "metadata": {},
   "outputs": [
    {
     "name": "stdout",
     "output_type": "stream",
     "text": [
      "1.4141667999938363\n"
     ]
    },
    {
     "name": "stderr",
     "output_type": "stream",
     "text": [
      "C:\\Users\\student05\\AppData\\Local\\Temp\\ipykernel_12268\\1259816714.py:2: DtypeWarning: Columns (2,3,4,5,6,7) have mixed types. Specify dtype option on import or set low_memory=False.\n",
      "  df = pd.read_csv('household_power_consumption.txt', sep=';')\n"
     ]
    },
    {
     "data": {
      "text/html": [
       "<div>\n",
       "<style scoped>\n",
       "    .dataframe tbody tr th:only-of-type {\n",
       "        vertical-align: middle;\n",
       "    }\n",
       "\n",
       "    .dataframe tbody tr th {\n",
       "        vertical-align: top;\n",
       "    }\n",
       "\n",
       "    .dataframe thead th {\n",
       "        text-align: right;\n",
       "    }\n",
       "</style>\n",
       "<table border=\"1\" class=\"dataframe\">\n",
       "  <thead>\n",
       "    <tr style=\"text-align: right;\">\n",
       "      <th></th>\n",
       "      <th>Date</th>\n",
       "      <th>Time</th>\n",
       "      <th>Global_active_power</th>\n",
       "      <th>Global_reactive_power</th>\n",
       "      <th>Voltage</th>\n",
       "      <th>Global_intensity</th>\n",
       "      <th>Sub_metering_1</th>\n",
       "      <th>Sub_metering_2</th>\n",
       "      <th>Sub_metering_3</th>\n",
       "    </tr>\n",
       "  </thead>\n",
       "  <tbody>\n",
       "    <tr>\n",
       "      <th>0</th>\n",
       "      <td>16/12/2006</td>\n",
       "      <td>17:24:00</td>\n",
       "      <td>4.216</td>\n",
       "      <td>0.418</td>\n",
       "      <td>234.840</td>\n",
       "      <td>18.400</td>\n",
       "      <td>0.000</td>\n",
       "      <td>1.000</td>\n",
       "      <td>17.0</td>\n",
       "    </tr>\n",
       "    <tr>\n",
       "      <th>1</th>\n",
       "      <td>16/12/2006</td>\n",
       "      <td>17:25:00</td>\n",
       "      <td>5.360</td>\n",
       "      <td>0.436</td>\n",
       "      <td>233.630</td>\n",
       "      <td>23.000</td>\n",
       "      <td>0.000</td>\n",
       "      <td>1.000</td>\n",
       "      <td>16.0</td>\n",
       "    </tr>\n",
       "    <tr>\n",
       "      <th>2</th>\n",
       "      <td>16/12/2006</td>\n",
       "      <td>17:26:00</td>\n",
       "      <td>5.374</td>\n",
       "      <td>0.498</td>\n",
       "      <td>233.290</td>\n",
       "      <td>23.000</td>\n",
       "      <td>0.000</td>\n",
       "      <td>2.000</td>\n",
       "      <td>17.0</td>\n",
       "    </tr>\n",
       "    <tr>\n",
       "      <th>3</th>\n",
       "      <td>16/12/2006</td>\n",
       "      <td>17:27:00</td>\n",
       "      <td>5.388</td>\n",
       "      <td>0.502</td>\n",
       "      <td>233.740</td>\n",
       "      <td>23.000</td>\n",
       "      <td>0.000</td>\n",
       "      <td>1.000</td>\n",
       "      <td>17.0</td>\n",
       "    </tr>\n",
       "    <tr>\n",
       "      <th>4</th>\n",
       "      <td>16/12/2006</td>\n",
       "      <td>17:28:00</td>\n",
       "      <td>3.666</td>\n",
       "      <td>0.528</td>\n",
       "      <td>235.680</td>\n",
       "      <td>15.800</td>\n",
       "      <td>0.000</td>\n",
       "      <td>1.000</td>\n",
       "      <td>17.0</td>\n",
       "    </tr>\n",
       "  </tbody>\n",
       "</table>\n",
       "</div>"
      ],
      "text/plain": [
       "         Date      Time Global_active_power Global_reactive_power  Voltage  \\\n",
       "0  16/12/2006  17:24:00               4.216                 0.418  234.840   \n",
       "1  16/12/2006  17:25:00               5.360                 0.436  233.630   \n",
       "2  16/12/2006  17:26:00               5.374                 0.498  233.290   \n",
       "3  16/12/2006  17:27:00               5.388                 0.502  233.740   \n",
       "4  16/12/2006  17:28:00               3.666                 0.528  235.680   \n",
       "\n",
       "  Global_intensity Sub_metering_1 Sub_metering_2  Sub_metering_3  \n",
       "0           18.400          0.000          1.000            17.0  \n",
       "1           23.000          0.000          1.000            16.0  \n",
       "2           23.000          0.000          2.000            17.0  \n",
       "3           23.000          0.000          1.000            17.0  \n",
       "4           15.800          0.000          1.000            17.0  "
      ]
     },
     "execution_count": 382,
     "metadata": {},
     "output_type": "execute_result"
    }
   ],
   "source": [
    "starttime = tt.default_timer()\n",
    "df = pd.read_csv('household_power_consumption.txt', sep=';')\n",
    "print(tt.default_timer()-starttime)\n",
    "df.head()"
   ]
  },
  {
   "cell_type": "code",
   "execution_count": 383,
   "metadata": {},
   "outputs": [
    {
     "name": "stdout",
     "output_type": "stream",
     "text": [
      "0.5908320000016829\n"
     ]
    }
   ],
   "source": [
    "starttime = tt.default_timer()\n",
    "(df=='?').sum()\n",
    "print(tt.default_timer()-starttime)"
   ]
  },
  {
   "cell_type": "code",
   "execution_count": 384,
   "metadata": {},
   "outputs": [
    {
     "name": "stdout",
     "output_type": "stream",
     "text": [
      "0.2000079999997979\n"
     ]
    }
   ],
   "source": [
    "starttime = tt.default_timer()\n",
    "df.drop(index = df[df['Global_active_power']==\"?\"]['Global_active_power'].index, inplace=True)\n",
    "print(tt.default_timer()-starttime)"
   ]
  },
  {
   "cell_type": "code",
   "execution_count": 385,
   "metadata": {},
   "outputs": [
    {
     "name": "stdout",
     "output_type": "stream",
     "text": [
      "0.5851756999982172\n"
     ]
    }
   ],
   "source": [
    "starttime = tt.default_timer()\n",
    "(df=='?').sum()\n",
    "print(tt.default_timer()-starttime)"
   ]
  },
  {
   "cell_type": "code",
   "execution_count": 386,
   "metadata": {},
   "outputs": [
    {
     "name": "stderr",
     "output_type": "stream",
     "text": [
      "C:\\Users\\student05\\AppData\\Local\\Temp\\ipykernel_12268\\3811351180.py:3: UserWarning: Parsing dates in %d/%m/%Y format when dayfirst=False (the default) was specified. Pass `dayfirst=True` or specify a format to silence this warning.\n",
      "  df['Date'] = pd.to_datetime(df['Date'])\n"
     ]
    },
    {
     "name": "stdout",
     "output_type": "stream",
     "text": [
      "3.192110700001649\n"
     ]
    }
   ],
   "source": [
    "#Convert\n",
    "starttime = tt.default_timer()\n",
    "df['Date'] = pd.to_datetime(df['Date'])\n",
    "df['Time'] = pd.to_timedelta(df['Time'])\n",
    "df['Global_active_power'] = df['Global_active_power'].astype(np.float64)\n",
    "df['Global_reactive_power'] = df['Global_reactive_power'].astype(np.float64)\n",
    "df['Voltage'] = df['Voltage'].astype(np.float64)\n",
    "df['Global_intensity'] = df['Global_intensity'].astype(np.float64)\n",
    "df['Sub_metering_1'] = df['Sub_metering_1'].astype(np.float64)\n",
    "df['Sub_metering_2'] = df['Sub_metering_2'].astype(np.float64)\n",
    "print(tt.default_timer()-starttime)"
   ]
  },
  {
   "cell_type": "code",
   "execution_count": 387,
   "metadata": {},
   "outputs": [
    {
     "data": {
      "text/plain": [
       "Date                      datetime64[ns]\n",
       "Time                     timedelta64[ns]\n",
       "Global_active_power              float64\n",
       "Global_reactive_power            float64\n",
       "Voltage                          float64\n",
       "Global_intensity                 float64\n",
       "Sub_metering_1                   float64\n",
       "Sub_metering_2                   float64\n",
       "Sub_metering_3                   float64\n",
       "dtype: object"
      ]
     },
     "execution_count": 387,
     "metadata": {},
     "output_type": "execute_result"
    }
   ],
   "source": [
    "df.dtypes"
   ]
  },
  {
   "cell_type": "markdown",
   "metadata": {},
   "source": [
    "1. Обрати всі домогосподарства, у яких загальна активна споживана\n",
    "потужність перевищує 5 кВт."
   ]
  },
  {
   "cell_type": "code",
   "execution_count": 388,
   "metadata": {},
   "outputs": [
    {
     "name": "stdout",
     "output_type": "stream",
     "text": [
      "0.016056500004197005\n",
      "              Date            Time  Global_active_power  \\\n",
      "1       2006-12-16 0 days 17:25:00                5.360   \n",
      "2       2006-12-16 0 days 17:26:00                5.374   \n",
      "3       2006-12-16 0 days 17:27:00                5.388   \n",
      "11      2006-12-16 0 days 17:35:00                5.412   \n",
      "12      2006-12-16 0 days 17:36:00                5.224   \n",
      "...            ...             ...                  ...   \n",
      "2069356 2010-11-22 0 days 18:40:00                5.408   \n",
      "2069357 2010-11-22 0 days 18:41:00                5.528   \n",
      "2071586 2010-11-24 0 days 07:50:00                5.172   \n",
      "2071587 2010-11-24 0 days 07:51:00                5.750   \n",
      "2072997 2010-11-25 0 days 07:21:00                5.074   \n",
      "\n",
      "         Global_reactive_power  Voltage  Global_intensity  Sub_metering_1  \\\n",
      "1                        0.436   233.63              23.0             0.0   \n",
      "2                        0.498   233.29              23.0             0.0   \n",
      "3                        0.502   233.74              23.0             0.0   \n",
      "11                       0.470   232.78              23.2             0.0   \n",
      "12                       0.478   232.99              22.4             0.0   \n",
      "...                        ...      ...               ...             ...   \n",
      "2069356                  0.150   231.50              23.6            48.0   \n",
      "2069357                  0.144   232.48              24.6            53.0   \n",
      "2071586                  0.050   235.18              22.0             0.0   \n",
      "2071587                  0.000   234.40              24.6             0.0   \n",
      "2072997                  0.240   238.55              21.4             1.0   \n",
      "\n",
      "         Sub_metering_2  Sub_metering_3  \n",
      "1                   1.0            16.0  \n",
      "2                   2.0            17.0  \n",
      "3                   1.0            17.0  \n",
      "11                  1.0            17.0  \n",
      "12                  1.0            16.0  \n",
      "...                 ...             ...  \n",
      "2069356             0.0             0.0  \n",
      "2069357             0.0             0.0  \n",
      "2071586            38.0            17.0  \n",
      "2071587            39.0            17.0  \n",
      "2072997             2.0            18.0  \n",
      "\n",
      "[17547 rows x 9 columns]\n"
     ]
    }
   ],
   "source": [
    "starttime = tt.default_timer()\n",
    "res = df[df['Global_active_power']>5]\n",
    "\n",
    "print(tt.default_timer()-starttime)\n",
    "print(res)"
   ]
  },
  {
   "cell_type": "markdown",
   "metadata": {},
   "source": [
    "2. Обрати всі домогосподарства, у яких вольтаж перевищую 235 В."
   ]
  },
  {
   "cell_type": "code",
   "execution_count": 389,
   "metadata": {},
   "outputs": [
    {
     "name": "stdout",
     "output_type": "stream",
     "text": [
      "0.10783639999863226\n",
      "              Date            Time  Global_active_power  \\\n",
      "4       2006-12-16 0 days 17:28:00                3.666   \n",
      "5       2006-12-16 0 days 17:29:00                3.520   \n",
      "6       2006-12-16 0 days 17:30:00                3.702   \n",
      "7       2006-12-16 0 days 17:31:00                3.700   \n",
      "14      2006-12-16 0 days 17:38:00                4.054   \n",
      "...            ...             ...                  ...   \n",
      "2075254 2010-11-26 0 days 20:58:00                0.946   \n",
      "2075255 2010-11-26 0 days 20:59:00                0.944   \n",
      "2075256 2010-11-26 0 days 21:00:00                0.938   \n",
      "2075257 2010-11-26 0 days 21:01:00                0.934   \n",
      "2075258 2010-11-26 0 days 21:02:00                0.932   \n",
      "\n",
      "         Global_reactive_power  Voltage  Global_intensity  Sub_metering_1  \\\n",
      "4                        0.528   235.68              15.8             0.0   \n",
      "5                        0.522   235.02              15.0             0.0   \n",
      "6                        0.520   235.09              15.8             0.0   \n",
      "7                        0.520   235.22              15.8             0.0   \n",
      "14                       0.422   235.24              17.6             0.0   \n",
      "...                        ...      ...               ...             ...   \n",
      "2075254                  0.000   240.43               4.0             0.0   \n",
      "2075255                  0.000   240.00               4.0             0.0   \n",
      "2075256                  0.000   239.82               3.8             0.0   \n",
      "2075257                  0.000   239.70               3.8             0.0   \n",
      "2075258                  0.000   239.55               3.8             0.0   \n",
      "\n",
      "         Sub_metering_2  Sub_metering_3  \n",
      "4                   1.0            17.0  \n",
      "5                   2.0            17.0  \n",
      "6                   1.0            17.0  \n",
      "7                   1.0            17.0  \n",
      "14                  1.0            17.0  \n",
      "...                 ...             ...  \n",
      "2075254             0.0             0.0  \n",
      "2075255             0.0             0.0  \n",
      "2075256             0.0             0.0  \n",
      "2075257             0.0             0.0  \n",
      "2075258             0.0             0.0  \n",
      "\n",
      "[1952491 rows x 9 columns]\n"
     ]
    }
   ],
   "source": [
    "starttime = tt.default_timer()\n",
    "res = df[df['Voltage']>235]\n",
    "\n",
    "print(tt.default_timer()-starttime)\n",
    "print(res)"
   ]
  },
  {
   "cell_type": "markdown",
   "metadata": {},
   "source": [
    "3. Обрати всі домогосподарства, у яких сила струму лежить в межах\n",
    "19-20 А, для них виявити ті, у яких пральна машина та холодильних\n",
    "споживають більше, ніж бойлер та кондиціонер."
   ]
  },
  {
   "cell_type": "code",
   "execution_count": 390,
   "metadata": {},
   "outputs": [
    {
     "name": "stdout",
     "output_type": "stream",
     "text": [
      "A 19-20\n",
      "              Date            Time  Global_active_power  \\\n",
      "10      2006-12-16 0 days 17:34:00                4.448   \n",
      "24      2006-12-16 0 days 17:48:00                4.474   \n",
      "33      2006-12-16 0 days 17:57:00                4.512   \n",
      "45      2006-12-16 0 days 18:09:00                4.464   \n",
      "52      2006-12-16 0 days 18:16:00                4.524   \n",
      "...            ...             ...                  ...   \n",
      "2071589 2010-11-24 0 days 07:53:00                4.666   \n",
      "2071590 2010-11-24 0 days 07:54:00                4.694   \n",
      "2071591 2010-11-24 0 days 07:55:00                4.602   \n",
      "2071592 2010-11-24 0 days 07:56:00                4.536   \n",
      "2071593 2010-11-24 0 days 07:57:00                4.626   \n",
      "\n",
      "         Global_reactive_power  Voltage  Global_intensity  Sub_metering_1  \\\n",
      "10                       0.498   232.86              19.6             0.0   \n",
      "24                       0.000   234.96              19.4             0.0   \n",
      "33                       0.000   233.62              19.2             0.0   \n",
      "45                       0.136   234.66              19.0             0.0   \n",
      "52                       0.076   234.20              19.6             0.0   \n",
      "...                        ...      ...               ...             ...   \n",
      "2071589                  0.000   235.72              19.8             0.0   \n",
      "2071590                  0.000   236.78              19.8             0.0   \n",
      "2071591                  0.000   237.08              19.4             0.0   \n",
      "2071592                  0.000   237.03              19.0             0.0   \n",
      "2071593                  0.000   236.78              19.4             0.0   \n",
      "\n",
      "         Sub_metering_2  Sub_metering_3  \n",
      "10                  1.0            17.0  \n",
      "24                  0.0            17.0  \n",
      "33                  0.0            17.0  \n",
      "45                 37.0            16.0  \n",
      "52                  9.0            17.0  \n",
      "...                 ...             ...  \n",
      "2071589            39.0            17.0  \n",
      "2071590            39.0            18.0  \n",
      "2071591            40.0            17.0  \n",
      "2071592            39.0            17.0  \n",
      "2071593            39.0            17.0  \n",
      "\n",
      "[7021 rows x 9 columns]\n",
      "0.014128199996775948\n",
      "Sub_metering_2 max:\n"
     ]
    },
    {
     "data": {
      "text/html": [
       "<div>\n",
       "<style scoped>\n",
       "    .dataframe tbody tr th:only-of-type {\n",
       "        vertical-align: middle;\n",
       "    }\n",
       "\n",
       "    .dataframe tbody tr th {\n",
       "        vertical-align: top;\n",
       "    }\n",
       "\n",
       "    .dataframe thead th {\n",
       "        text-align: right;\n",
       "    }\n",
       "</style>\n",
       "<table border=\"1\" class=\"dataframe\">\n",
       "  <thead>\n",
       "    <tr style=\"text-align: right;\">\n",
       "      <th></th>\n",
       "      <th>Date</th>\n",
       "      <th>Time</th>\n",
       "      <th>Global_active_power</th>\n",
       "      <th>Global_reactive_power</th>\n",
       "      <th>Voltage</th>\n",
       "      <th>Global_intensity</th>\n",
       "      <th>Sub_metering_1</th>\n",
       "      <th>Sub_metering_2</th>\n",
       "      <th>Sub_metering_3</th>\n",
       "    </tr>\n",
       "  </thead>\n",
       "  <tbody>\n",
       "    <tr>\n",
       "      <th>45</th>\n",
       "      <td>2006-12-16</td>\n",
       "      <td>0 days 18:09:00</td>\n",
       "      <td>4.464</td>\n",
       "      <td>0.136</td>\n",
       "      <td>234.66</td>\n",
       "      <td>19.0</td>\n",
       "      <td>0.0</td>\n",
       "      <td>37.0</td>\n",
       "      <td>16.0</td>\n",
       "    </tr>\n",
       "    <tr>\n",
       "      <th>460</th>\n",
       "      <td>2006-12-17</td>\n",
       "      <td>0 days 01:04:00</td>\n",
       "      <td>4.582</td>\n",
       "      <td>0.258</td>\n",
       "      <td>238.08</td>\n",
       "      <td>19.6</td>\n",
       "      <td>0.0</td>\n",
       "      <td>13.0</td>\n",
       "      <td>0.0</td>\n",
       "    </tr>\n",
       "    <tr>\n",
       "      <th>464</th>\n",
       "      <td>2006-12-17</td>\n",
       "      <td>0 days 01:08:00</td>\n",
       "      <td>4.618</td>\n",
       "      <td>0.104</td>\n",
       "      <td>239.61</td>\n",
       "      <td>19.6</td>\n",
       "      <td>0.0</td>\n",
       "      <td>27.0</td>\n",
       "      <td>0.0</td>\n",
       "    </tr>\n",
       "    <tr>\n",
       "      <th>475</th>\n",
       "      <td>2006-12-17</td>\n",
       "      <td>0 days 01:19:00</td>\n",
       "      <td>4.636</td>\n",
       "      <td>0.140</td>\n",
       "      <td>237.37</td>\n",
       "      <td>19.4</td>\n",
       "      <td>0.0</td>\n",
       "      <td>36.0</td>\n",
       "      <td>0.0</td>\n",
       "    </tr>\n",
       "    <tr>\n",
       "      <th>476</th>\n",
       "      <td>2006-12-17</td>\n",
       "      <td>0 days 01:20:00</td>\n",
       "      <td>4.634</td>\n",
       "      <td>0.152</td>\n",
       "      <td>237.17</td>\n",
       "      <td>19.4</td>\n",
       "      <td>0.0</td>\n",
       "      <td>35.0</td>\n",
       "      <td>0.0</td>\n",
       "    </tr>\n",
       "    <tr>\n",
       "      <th>...</th>\n",
       "      <td>...</td>\n",
       "      <td>...</td>\n",
       "      <td>...</td>\n",
       "      <td>...</td>\n",
       "      <td>...</td>\n",
       "      <td>...</td>\n",
       "      <td>...</td>\n",
       "      <td>...</td>\n",
       "      <td>...</td>\n",
       "    </tr>\n",
       "    <tr>\n",
       "      <th>2071589</th>\n",
       "      <td>2010-11-24</td>\n",
       "      <td>0 days 07:53:00</td>\n",
       "      <td>4.666</td>\n",
       "      <td>0.000</td>\n",
       "      <td>235.72</td>\n",
       "      <td>19.8</td>\n",
       "      <td>0.0</td>\n",
       "      <td>39.0</td>\n",
       "      <td>17.0</td>\n",
       "    </tr>\n",
       "    <tr>\n",
       "      <th>2071590</th>\n",
       "      <td>2010-11-24</td>\n",
       "      <td>0 days 07:54:00</td>\n",
       "      <td>4.694</td>\n",
       "      <td>0.000</td>\n",
       "      <td>236.78</td>\n",
       "      <td>19.8</td>\n",
       "      <td>0.0</td>\n",
       "      <td>39.0</td>\n",
       "      <td>18.0</td>\n",
       "    </tr>\n",
       "    <tr>\n",
       "      <th>2071591</th>\n",
       "      <td>2010-11-24</td>\n",
       "      <td>0 days 07:55:00</td>\n",
       "      <td>4.602</td>\n",
       "      <td>0.000</td>\n",
       "      <td>237.08</td>\n",
       "      <td>19.4</td>\n",
       "      <td>0.0</td>\n",
       "      <td>40.0</td>\n",
       "      <td>17.0</td>\n",
       "    </tr>\n",
       "    <tr>\n",
       "      <th>2071592</th>\n",
       "      <td>2010-11-24</td>\n",
       "      <td>0 days 07:56:00</td>\n",
       "      <td>4.536</td>\n",
       "      <td>0.000</td>\n",
       "      <td>237.03</td>\n",
       "      <td>19.0</td>\n",
       "      <td>0.0</td>\n",
       "      <td>39.0</td>\n",
       "      <td>17.0</td>\n",
       "    </tr>\n",
       "    <tr>\n",
       "      <th>2071593</th>\n",
       "      <td>2010-11-24</td>\n",
       "      <td>0 days 07:57:00</td>\n",
       "      <td>4.626</td>\n",
       "      <td>0.000</td>\n",
       "      <td>236.78</td>\n",
       "      <td>19.4</td>\n",
       "      <td>0.0</td>\n",
       "      <td>39.0</td>\n",
       "      <td>17.0</td>\n",
       "    </tr>\n",
       "  </tbody>\n",
       "</table>\n",
       "<p>2509 rows × 9 columns</p>\n",
       "</div>"
      ],
      "text/plain": [
       "              Date            Time  Global_active_power  \\\n",
       "45      2006-12-16 0 days 18:09:00                4.464   \n",
       "460     2006-12-17 0 days 01:04:00                4.582   \n",
       "464     2006-12-17 0 days 01:08:00                4.618   \n",
       "475     2006-12-17 0 days 01:19:00                4.636   \n",
       "476     2006-12-17 0 days 01:20:00                4.634   \n",
       "...            ...             ...                  ...   \n",
       "2071589 2010-11-24 0 days 07:53:00                4.666   \n",
       "2071590 2010-11-24 0 days 07:54:00                4.694   \n",
       "2071591 2010-11-24 0 days 07:55:00                4.602   \n",
       "2071592 2010-11-24 0 days 07:56:00                4.536   \n",
       "2071593 2010-11-24 0 days 07:57:00                4.626   \n",
       "\n",
       "         Global_reactive_power  Voltage  Global_intensity  Sub_metering_1  \\\n",
       "45                       0.136   234.66              19.0             0.0   \n",
       "460                      0.258   238.08              19.6             0.0   \n",
       "464                      0.104   239.61              19.6             0.0   \n",
       "475                      0.140   237.37              19.4             0.0   \n",
       "476                      0.152   237.17              19.4             0.0   \n",
       "...                        ...      ...               ...             ...   \n",
       "2071589                  0.000   235.72              19.8             0.0   \n",
       "2071590                  0.000   236.78              19.8             0.0   \n",
       "2071591                  0.000   237.08              19.4             0.0   \n",
       "2071592                  0.000   237.03              19.0             0.0   \n",
       "2071593                  0.000   236.78              19.4             0.0   \n",
       "\n",
       "         Sub_metering_2  Sub_metering_3  \n",
       "45                 37.0            16.0  \n",
       "460                13.0             0.0  \n",
       "464                27.0             0.0  \n",
       "475                36.0             0.0  \n",
       "476                35.0             0.0  \n",
       "...                 ...             ...  \n",
       "2071589            39.0            17.0  \n",
       "2071590            39.0            18.0  \n",
       "2071591            40.0            17.0  \n",
       "2071592            39.0            17.0  \n",
       "2071593            39.0            17.0  \n",
       "\n",
       "[2509 rows x 9 columns]"
      ]
     },
     "execution_count": 390,
     "metadata": {},
     "output_type": "execute_result"
    }
   ],
   "source": [
    "starttime = tt.default_timer()\n",
    "i_19_20 = df[df.Global_intensity.between(19, 20)]\n",
    "print('A 19-20')\n",
    "print(i_19_20)\n",
    "gr2 = i_19_20[i_19_20['Sub_metering_2']>i_19_20['Sub_metering_3']]\n",
    "print(tt.default_timer()-starttime)\n",
    "print('Sub_metering_2 max:')\n",
    "gr2"
   ]
  },
  {
   "cell_type": "markdown",
   "metadata": {},
   "source": [
    "4. Обрати випадковим чином 500000 домогосподарств (без повторів\n",
    "елементів вибірки), для них обчислити середні величини усіх 3-х\n",
    "груп споживання електричної енергії"
   ]
  },
  {
   "cell_type": "code",
   "execution_count": 391,
   "metadata": {},
   "outputs": [
    {
     "name": "stdout",
     "output_type": "stream",
     "text": [
      "Random:\n",
      "              Date            Time  Global_active_power  \\\n",
      "265182  2007-06-18 0 days 21:06:00                0.300   \n",
      "52064   2007-01-21 0 days 21:08:00                6.806   \n",
      "107775  2007-03-01 0 days 13:39:00                0.386   \n",
      "625901  2008-02-24 0 days 09:05:00                1.366   \n",
      "311978  2007-07-21 0 days 09:02:00                1.198   \n",
      "...            ...             ...                  ...   \n",
      "1796023 2010-05-16 0 days 23:07:00                1.438   \n",
      "1036233 2008-12-05 0 days 07:57:00                2.726   \n",
      "1862922 2010-07-02 0 days 10:06:00                0.398   \n",
      "1415844 2009-08-25 0 days 22:48:00                1.364   \n",
      "1474018 2009-10-05 0 days 08:22:00                1.274   \n",
      "\n",
      "         Global_reactive_power  Voltage  Global_intensity  Sub_metering_1  \\\n",
      "265182                   0.232   242.23               1.6             0.0   \n",
      "52064                    0.284   235.54              29.0            43.0   \n",
      "107775                   0.228   241.02               1.8             0.0   \n",
      "625901                   0.092   238.86               5.6             0.0   \n",
      "311978                   0.060   234.26               5.0             0.0   \n",
      "...                        ...      ...               ...             ...   \n",
      "1796023                  0.068   240.73               6.0             0.0   \n",
      "1036233                  0.176   238.45              11.4             0.0   \n",
      "1862922                  0.238   239.55               2.0             0.0   \n",
      "1415844                  0.122   241.28               5.6             0.0   \n",
      "1474018                  0.054   239.48               5.2             0.0   \n",
      "\n",
      "         Sub_metering_2  Sub_metering_3  \n",
      "265182              1.0             0.0  \n",
      "52064              18.0            17.0  \n",
      "107775              0.0             0.0  \n",
      "625901              0.0            17.0  \n",
      "311978              0.0            17.0  \n",
      "...                 ...             ...  \n",
      "1796023             0.0            18.0  \n",
      "1036233             0.0            17.0  \n",
      "1862922             2.0             1.0  \n",
      "1415844             0.0            19.0  \n",
      "1474018             0.0            18.0  \n",
      "\n",
      "[50000 rows x 9 columns]\n",
      "0.13337550000142073\n",
      "Aver:\n",
      "265182      0.333333\n",
      "52064      26.000000\n",
      "107775      0.000000\n",
      "625901      5.666667\n",
      "311978      5.666667\n",
      "             ...    \n",
      "1796023     6.000000\n",
      "1036233     5.666667\n",
      "1862922     1.000000\n",
      "1415844     6.333333\n",
      "1474018     6.000000\n",
      "Length: 50000, dtype: float64\n"
     ]
    }
   ],
   "source": [
    "starttime = tt.default_timer()\n",
    "df1 = df.loc[np.random.choice(df.index, size=50000, replace=False)]\n",
    "print('Random:')\n",
    "print(df1)\n",
    "df2 = (df1['Sub_metering_1']+df1['Sub_metering_2']+df1['Sub_metering_3'])/3\n",
    "print(tt.default_timer()-starttime)\n",
    "print('Aver:')\n",
    "print(df2)"
   ]
  },
  {
   "cell_type": "markdown",
   "metadata": {},
   "source": [
    "5. Обрати ті домогосподарства, які після 18-00 споживають понад 6\n",
    "кВт за хвилину в середньому, серед відібраних визначити ті, у яких\n",
    "основне споживання електроенергії у вказаний проміжок часу\n",
    "припадає на пральну машину, сушарку, холодильник та освітлення\n",
    "(група 2 є найбільшою), а потім обрати кожен третій результат із\n",
    "першої половини та кожен четвертий результат із другої половини."
   ]
  },
  {
   "cell_type": "code",
   "execution_count": 392,
   "metadata": {},
   "outputs": [
    {
     "name": "stdout",
     "output_type": "stream",
     "text": [
      "After 18 oclock:\n",
      "              Date            Time  Global_active_power  \\\n",
      "41      2006-12-16 0 days 18:05:00                6.052   \n",
      "42      2006-12-16 0 days 18:06:00                6.752   \n",
      "43      2006-12-16 0 days 18:07:00                6.474   \n",
      "44      2006-12-16 0 days 18:08:00                6.308   \n",
      "71      2006-12-16 0 days 18:35:00                6.072   \n",
      "...            ...             ...                  ...   \n",
      "2069353 2010-11-22 0 days 18:37:00                5.476   \n",
      "2069354 2010-11-22 0 days 18:38:00                5.928   \n",
      "2069355 2010-11-22 0 days 18:39:00                5.454   \n",
      "2069356 2010-11-22 0 days 18:40:00                5.408   \n",
      "2069357 2010-11-22 0 days 18:41:00                5.528   \n",
      "\n",
      "         Global_reactive_power  Voltage  Global_intensity  Sub_metering_1  \\\n",
      "41                       0.192   232.93              26.2             0.0   \n",
      "42                       0.186   232.12              29.0             0.0   \n",
      "43                       0.144   231.85              27.8             0.0   \n",
      "44                       0.116   232.25              27.0             0.0   \n",
      "71                       0.000   232.48              26.4             0.0   \n",
      "...                        ...      ...               ...             ...   \n",
      "2069353                  0.150   231.23              24.0            49.0   \n",
      "2069354                  0.148   231.08              26.0            57.0   \n",
      "2069355                  0.152   231.73              23.8            50.0   \n",
      "2069356                  0.150   231.50              23.6            48.0   \n",
      "2069357                  0.144   232.48              24.6            53.0   \n",
      "\n",
      "         Sub_metering_2  Sub_metering_3  \n",
      "41                 37.0            17.0  \n",
      "42                 36.0            17.0  \n",
      "43                 37.0            16.0  \n",
      "44                 36.0            17.0  \n",
      "71                 27.0            17.0  \n",
      "...                 ...             ...  \n",
      "2069353             0.0             0.0  \n",
      "2069354             0.0             0.0  \n",
      "2069355             0.0             0.0  \n",
      "2069356             0.0             0.0  \n",
      "2069357             0.0             0.0  \n",
      "\n",
      "[10016 rows x 9 columns]\n",
      "group 2:\n",
      "           Date            Time  Global_active_power  Global_reactive_power  \\\n",
      "0    2006-12-16 0 days 18:05:00                6.052                  0.192   \n",
      "1    2006-12-16 0 days 18:06:00                6.752                  0.186   \n",
      "2    2006-12-16 0 days 18:07:00                6.474                  0.144   \n",
      "3    2006-12-16 0 days 18:08:00                6.308                  0.116   \n",
      "4    2006-12-16 0 days 18:35:00                6.072                  0.000   \n",
      "...         ...             ...                  ...                    ...   \n",
      "3138 2010-11-20 0 days 18:48:00                5.800                  0.222   \n",
      "3139 2010-11-20 0 days 18:49:00                6.210                  0.174   \n",
      "3140 2010-11-20 0 days 18:50:00                5.998                  0.144   \n",
      "3141 2010-11-20 0 days 18:52:00                6.364                  0.126   \n",
      "3142 2010-11-20 0 days 18:53:00                5.226                  0.162   \n",
      "\n",
      "      Voltage  Global_intensity  Sub_metering_1  Sub_metering_2  \\\n",
      "0      232.93              26.2             0.0            37.0   \n",
      "1      232.12              29.0             0.0            36.0   \n",
      "2      231.85              27.8             0.0            37.0   \n",
      "3      232.25              27.0             0.0            36.0   \n",
      "4      232.48              26.4             0.0            27.0   \n",
      "...       ...               ...             ...             ...   \n",
      "3138   230.24              25.4             8.0            40.0   \n",
      "3139   228.82              27.4            21.0            34.0   \n",
      "3140   230.28              26.8            22.0            30.0   \n",
      "3141   229.38              28.2            17.0            34.0   \n",
      "3142   230.28              23.2            18.0            20.0   \n",
      "\n",
      "      Sub_metering_3  \n",
      "0               17.0  \n",
      "1               17.0  \n",
      "2               16.0  \n",
      "3               17.0  \n",
      "4               17.0  \n",
      "...              ...  \n",
      "3138            16.0  \n",
      "3139            17.0  \n",
      "3140            16.0  \n",
      "3141            16.0  \n",
      "3142            17.0  \n",
      "\n",
      "[3143 rows x 9 columns]\n",
      "1 part:\n",
      "           Date            Time  Global_active_power  Global_reactive_power  \\\n",
      "0    2006-12-16 0 days 18:05:00                6.052                  0.192   \n",
      "3    2006-12-16 0 days 18:08:00                6.308                  0.116   \n",
      "6    2006-12-18 0 days 19:31:00                6.158                  0.442   \n",
      "9    2006-12-19 0 days 20:24:00                5.150                  0.578   \n",
      "12   2006-12-28 0 days 18:58:00                5.428                  0.180   \n",
      "...         ...             ...                  ...                    ...   \n",
      "1557 2007-12-23 0 days 19:11:00                6.736                  0.260   \n",
      "1560 2007-12-23 0 days 19:16:00                5.036                  0.452   \n",
      "1563 2007-12-23 0 days 19:19:00                5.942                  0.444   \n",
      "1566 2007-12-23 0 days 19:29:00                9.686                  0.410   \n",
      "1569 2007-12-23 0 days 19:37:00                6.024                  0.626   \n",
      "\n",
      "      Voltage  Global_intensity  Sub_metering_1  Sub_metering_2  \\\n",
      "0      232.93              26.2             0.0            37.0   \n",
      "3      232.25              27.0             0.0            36.0   \n",
      "6      229.08              27.0             0.0            36.0   \n",
      "9      238.97              21.8             0.0            37.0   \n",
      "12     235.41              23.0             0.0            38.0   \n",
      "...       ...               ...             ...             ...   \n",
      "1557   231.57              29.0             0.0            71.0   \n",
      "1560   233.46              21.6             0.0            36.0   \n",
      "1563   233.13              25.4             0.0            37.0   \n",
      "1566   231.01              42.0            36.0            64.0   \n",
      "1569   233.53              25.8             1.0            37.0   \n",
      "\n",
      "      Sub_metering_3  \n",
      "0               17.0  \n",
      "3               17.0  \n",
      "6                0.0  \n",
      "9                0.0  \n",
      "12              17.0  \n",
      "...              ...  \n",
      "1557             0.0  \n",
      "1560             0.0  \n",
      "1563            17.0  \n",
      "1566            17.0  \n",
      "1569            17.0  \n",
      "\n",
      "[524 rows x 9 columns]\n",
      "2 part\n",
      "           Date            Time  Global_active_power  Global_reactive_power  \\\n",
      "0    2007-12-23 0 days 19:42:00                5.172                  0.462   \n",
      "4    2007-12-23 0 days 19:48:00                5.960                  0.372   \n",
      "8    2007-12-23 0 days 19:52:00                5.124                  0.396   \n",
      "12   2007-12-23 0 days 19:57:00                5.332                  0.382   \n",
      "16   2007-12-27 0 days 19:41:00                5.686                  0.276   \n",
      "...         ...             ...                  ...                    ...   \n",
      "1552 2010-11-20 0 days 18:34:00                6.266                  0.360   \n",
      "1556 2010-11-20 0 days 18:38:00                6.302                  0.376   \n",
      "1560 2010-11-20 0 days 18:42:00                6.238                  0.344   \n",
      "1564 2010-11-20 0 days 18:46:00                6.438                  0.308   \n",
      "1568 2010-11-20 0 days 18:50:00                5.998                  0.144   \n",
      "\n",
      "      Voltage  Global_intensity  Sub_metering_1  Sub_metering_2  \\\n",
      "0      237.46              22.0             1.0            32.0   \n",
      "4      235.22              25.4             1.0            38.0   \n",
      "8      235.77              21.8             0.0            25.0   \n",
      "12     235.26              22.8             0.0            26.0   \n",
      "16     233.45              24.4             1.0            35.0   \n",
      "...       ...               ...             ...             ...   \n",
      "1552   229.82              27.6            14.0            35.0   \n",
      "1556   229.65              27.8            15.0            34.0   \n",
      "1560   229.37              27.6            14.0            35.0   \n",
      "1564   229.26              28.4            13.0            39.0   \n",
      "1568   230.28              26.8            22.0            30.0   \n",
      "\n",
      "      Sub_metering_3  \n",
      "0               18.0  \n",
      "4               17.0  \n",
      "8               17.0  \n",
      "12              17.0  \n",
      "16              17.0  \n",
      "...              ...  \n",
      "1552            16.0  \n",
      "1556            17.0  \n",
      "1560            16.0  \n",
      "1564            16.0  \n",
      "1568            16.0  \n",
      "\n",
      "[393 rows x 9 columns]\n",
      "0.030402299998968374\n"
     ]
    }
   ],
   "source": [
    "starttime = tt.default_timer()\n",
    "after_18 = df[(pd.Timedelta(\"18 hours\")<df['Time']) & (df['Global_active_power']>5)]\n",
    "print('After 18 oclock:')\n",
    "print(after_18)\n",
    "group_2_max = after_18[(after_18['Sub_metering_2']>after_18['Sub_metering_1']) & (after_18['Sub_metering_2']>after_18['Sub_metering_3'])]\n",
    "group_2_max = group_2_max.reset_index(drop=True)\n",
    "print('group 2:')\n",
    "print(group_2_max)\n",
    "n = round(len(group_2_max.index)/2)\n",
    "part1 = ((group_2_max.iloc[:n]).reset_index(drop=True)).iloc[::3]\n",
    "part2 = ((group_2_max.iloc[n:]).reset_index(drop=True)).iloc[::4]\n",
    "print('1 part:')\n",
    "print(part1)\n",
    "print('2 part')\n",
    "print(part2)\n",
    "print(tt.default_timer()-starttime)"
   ]
  },
  {
   "cell_type": "markdown",
   "metadata": {},
   "source": [
    "### Numpy"
   ]
  },
  {
   "cell_type": "code",
   "execution_count": 393,
   "metadata": {},
   "outputs": [
    {
     "name": "stdout",
     "output_type": "stream",
     "text": [
      "4.833040700003039\n",
      "[['16/12/2006' '17:24:00' '4.216' ... '0.000' '1.000' '17.000']\n",
      " ['16/12/2006' '17:25:00' '5.360' ... '0.000' '1.000' '16.000']\n",
      " ['16/12/2006' '17:26:00' '5.374' ... '0.000' '2.000' '17.000']\n",
      " ...\n",
      " ['26/11/2010' '21:00:00' '0.938' ... '0.000' '0.000' '0.000']\n",
      " ['26/11/2010' '21:01:00' '0.934' ... '0.000' '0.000' '0.000']\n",
      " ['26/11/2010' '21:02:00' '0.932' ... '0.000' '0.000' '0.000']]\n"
     ]
    }
   ],
   "source": [
    "starttime = tt.default_timer()\n",
    "darray = np.loadtxt(\"household_power_consumption.txt\",delimiter=\";\", dtype=str,skiprows=1)\n",
    "print(tt.default_timer()-starttime)\n",
    "print(darray)"
   ]
  },
  {
   "cell_type": "code",
   "execution_count": 394,
   "metadata": {},
   "outputs": [
    {
     "name": "stdout",
     "output_type": "stream",
     "text": [
      "0.39699749999999767\n"
     ]
    }
   ],
   "source": [
    "starttime = tt.default_timer()\n",
    "darray = np.delete(darray,np.unique(np.where(darray == '?')[0]),axis=0)\n",
    "print(tt.default_timer()-starttime)"
   ]
  },
  {
   "cell_type": "code",
   "execution_count": 395,
   "metadata": {},
   "outputs": [
    {
     "name": "stdout",
     "output_type": "stream",
     "text": [
      "16.54553229999874\n"
     ]
    }
   ],
   "source": [
    "starttime = tt.default_timer()\n",
    "for i in range(darray.shape[0]):\n",
    "    right_f = dt.datetime.strptime(darray[i,0],'%d/%m/%Y')\n",
    "    darray[i,0] = np.datetime64(right_f)\n",
    "print(tt.default_timer()-starttime)"
   ]
  },
  {
   "cell_type": "code",
   "execution_count": 396,
   "metadata": {},
   "outputs": [
    {
     "name": "stdout",
     "output_type": "stream",
     "text": [
      "1.5630533000003197\n"
     ]
    }
   ],
   "source": [
    "starttime = tt.default_timer()\n",
    "for i in range(darray.shape[0]):\n",
    "    darray[i,1] = darray[i,1].split(\":\")[0]\n",
    "print(tt.default_timer()-starttime)"
   ]
  },
  {
   "cell_type": "markdown",
   "metadata": {},
   "source": [
    "1. Обрати всі домогосподарства, у яких загальна активна споживана\n",
    "потужність перевищує 5 кВт."
   ]
  },
  {
   "cell_type": "code",
   "execution_count": 397,
   "metadata": {},
   "outputs": [
    {
     "name": "stdout",
     "output_type": "stream",
     "text": [
      "0.8931252999973367\n",
      "[['2006-12-16' '17' '5.360' ... '0.000' '1.000' '16.000']\n",
      " ['2006-12-16' '17' '5.374' ... '0.000' '2.000' '17.000']\n",
      " ['2006-12-16' '17' '5.388' ... '0.000' '1.000' '17.000']\n",
      " ...\n",
      " ['2010-11-24' '07' '5.172' ... '0.000' '38.000' '17.000']\n",
      " ['2010-11-24' '07' '5.750' ... '0.000' '39.000' '17.000']\n",
      " ['2010-11-25' '07' '5.074' ... '1.000' '2.000' '18.000']]\n"
     ]
    }
   ],
   "source": [
    "starttime = tt.default_timer()\n",
    "res = darray[darray[:,2].astype(float)>5]\n",
    "print(tt.default_timer()-starttime)\n",
    "print(res)"
   ]
  },
  {
   "cell_type": "markdown",
   "metadata": {},
   "source": [
    "2. Обрати всі домогосподарства, у яких вольтаж перевищую 235 В."
   ]
  },
  {
   "cell_type": "code",
   "execution_count": 398,
   "metadata": {},
   "outputs": [
    {
     "name": "stdout",
     "output_type": "stream",
     "text": [
      "1.0511530000003404\n",
      "[['2006-12-16' '17' '3.666' ... '0.000' '1.000' '17.000']\n",
      " ['2006-12-16' '17' '3.520' ... '0.000' '2.000' '17.000']\n",
      " ['2006-12-16' '17' '3.702' ... '0.000' '1.000' '17.000']\n",
      " ...\n",
      " ['2010-11-26' '21' '0.938' ... '0.000' '0.000' '0.000']\n",
      " ['2010-11-26' '21' '0.934' ... '0.000' '0.000' '0.000']\n",
      " ['2010-11-26' '21' '0.932' ... '0.000' '0.000' '0.000']]\n"
     ]
    }
   ],
   "source": [
    "starttime = tt.default_timer()\n",
    "res = darray[darray[:,4].astype('float')>235]\n",
    "print(tt.default_timer()-starttime)\n",
    "print(res)"
   ]
  },
  {
   "cell_type": "markdown",
   "metadata": {},
   "source": [
    "3. Обрати всі домогосподарства, у яких сила струму лежить в межах\n",
    "19-20 А, для них виявити ті, у яких пральна машина та холодильних\n",
    "споживають більше, ніж бойлер та кондиціонер."
   ]
  },
  {
   "cell_type": "code",
   "execution_count": 399,
   "metadata": {},
   "outputs": [
    {
     "name": "stdout",
     "output_type": "stream",
     "text": [
      "A 19-20:\n",
      "[['2006-12-16' '17' '4.448' ... '0.000' '1.000' '17.000']\n",
      " ['2006-12-16' '17' '4.474' ... '0.000' '0.000' '17.000']\n",
      " ['2006-12-16' '17' '4.512' ... '0.000' '0.000' '17.000']\n",
      " ...\n",
      " ['2010-11-24' '07' '4.694' ... '0.000' '39.000' '18.000']\n",
      " ['2010-11-24' '07' '4.602' ... '0.000' '40.000' '17.000']\n",
      " ['2010-11-24' '07' '4.626' ... '0.000' '39.000' '17.000']]\n",
      "3.576619200001005\n",
      "Sub_metering2 max:\n",
      "[['2006-12-16' '18' '4.928' ... '0.000' '37.000' '16.000']\n",
      " ['2006-12-16' '18' '6.052' ... '0.000' '37.000' '17.000']\n",
      " ['2006-12-16' '18' '6.752' ... '0.000' '36.000' '17.000']\n",
      " ...\n",
      " ['2010-11-26' '20' '0.948' ... '0.000' '1.000' '0.000']\n",
      " ['2010-11-26' '20' '1.198' ... '0.000' '1.000' '0.000']\n",
      " ['2010-11-26' '20' '1.024' ... '0.000' '1.000' '0.000']]\n"
     ]
    }
   ],
   "source": [
    "starttime = tt.default_timer()\n",
    "gr1 = darray[(darray[:,5].astype('float')>19) & (darray[:,5].astype('float')<20)]\n",
    "print('A 19-20:')\n",
    "print(gr1)\n",
    "res = darray[darray[:,7].astype('float64')>darray[:,8].astype('float64')]\n",
    "print(tt.default_timer()-starttime)\n",
    "print('Sub_metering2 max:')\n",
    "print(res)\n"
   ]
  },
  {
   "cell_type": "markdown",
   "metadata": {},
   "source": [
    "4. Обрати випадковим чином 500000 домогосподарств (без повторів\n",
    "елементів вибірки), для них обчислити середні величини усіх 3-х\n",
    "груп споживання електричної енергії"
   ]
  },
  {
   "cell_type": "code",
   "execution_count": 400,
   "metadata": {},
   "outputs": [
    {
     "name": "stdout",
     "output_type": "stream",
     "text": [
      "Random\n",
      "[['2009-04-09' '15' '0.368' ... '0.000' '0.000' '1.000']\n",
      " ['2007-02-28' '18' '1.268' ... '0.000' '0.000' '17.000']\n",
      " ['2010-11-07' '10' '1.632' ... '0.000' '0.000' '18.000']\n",
      " ...\n",
      " ['2010-02-08' '20' '2.874' ... '0.000' '1.000' '18.000']\n",
      " ['2010-04-09' '10' '1.524' ... '0.000' '1.000' '18.000']\n",
      " ['2007-03-16' '11' '0.228' ... '0.000' '0.000' '0.000']]\n",
      "Average:\n",
      "[0.33333333 5.66666667 6.         ... 6.33333333 6.33333333 0.        ]\n",
      "0.7482500999976764\n"
     ]
    }
   ],
   "source": [
    "starttime = tt.default_timer()\n",
    "indexes = np.random.choice(len(darray), size=500000, replace=True, p=None)\n",
    "random = darray[indexes,:]\n",
    "print('Random')\n",
    "print(random)\n",
    "th_group = np.array([random[:,-1].astype('float'),random[:,-2].astype('float'),random[:,-3].astype('float')])\n",
    "av = np.average(th_group, 0)\n",
    "print('Average:')\n",
    "print(av)\n",
    "print(tt.default_timer()-starttime)"
   ]
  },
  {
   "cell_type": "markdown",
   "metadata": {},
   "source": [
    "5. Обрати ті домогосподарства, які після 18-00 споживають понад 6\n",
    "кВт за хвилину в середньому, серед відібраних визначити ті, у яких\n",
    "основне споживання електроенергії у вказаний проміжок часу\n",
    "припадає на пральну машину, сушарку, холодильник та освітлення\n",
    "(група 2 є найбільшою), а потім обрати кожен третій результат із\n",
    "першої половини та кожен четвертий результат із другої половини."
   ]
  },
  {
   "cell_type": "code",
   "execution_count": 401,
   "metadata": {},
   "outputs": [
    {
     "name": "stdout",
     "output_type": "stream",
     "text": [
      "After 18 oclock\n",
      "[['2006-12-16' '18' '6.052' ... '0.000' '37.000' '17.000']\n",
      " ['2006-12-16' '18' '6.752' ... '0.000' '36.000' '17.000']\n",
      " ['2006-12-16' '18' '6.474' ... '0.000' '37.000' '16.000']\n",
      " ...\n",
      " ['2010-11-22' '18' '5.454' ... '50.000' '0.000' '0.000']\n",
      " ['2010-11-22' '18' '5.408' ... '48.000' '0.000' '0.000']\n",
      " ['2010-11-22' '18' '5.528' ... '53.000' '0.000' '0.000']]\n",
      "max 2 group\n",
      "[['2006-12-16' '18' '6.052' ... '0.000' '37.000' '17.000']\n",
      " ['2006-12-16' '18' '6.752' ... '0.000' '36.000' '17.000']\n",
      " ['2006-12-16' '18' '6.474' ... '0.000' '37.000' '16.000']\n",
      " ...\n",
      " ['2010-11-20' '18' '5.998' ... '22.000' '30.000' '16.000']\n",
      " ['2010-11-20' '18' '6.364' ... '17.000' '34.000' '16.000']\n",
      " ['2010-11-20' '18' '5.226' ... '18.000' '20.000' '17.000']]\n",
      "part1:(every 3)\n",
      "[['2006-12-16' '18' '6.052' ... '0.000' '37.000' '17.000']\n",
      " ['2006-12-16' '18' '6.308' ... '0.000' '36.000' '17.000']\n",
      " ['2006-12-18' '19' '6.158' ... '0.000' '36.000' '0.000']\n",
      " ...\n",
      " ['2007-12-23' '19' '7.378' ... '22.000' '36.000' '16.000']\n",
      " ['2007-12-23' '19' '6.094' ... '1.000' '37.000' '16.000']\n",
      " ['2007-12-23' '19' '6.312' ... '16.000' '39.000' '17.000']]\n",
      "part2:(every 4)\n",
      "[['2007-12-23' '19' '8.116' ... '37.000' '38.000' '16.000']\n",
      " ['2007-12-23' '19' '5.640' ... '6.000' '21.000' '17.000']\n",
      " ['2007-12-23' '19' '5.738' ... '0.000' '31.000' '17.000']\n",
      " ...\n",
      " ['2010-11-20' '18' '6.238' ... '14.000' '35.000' '16.000']\n",
      " ['2010-11-20' '18' '6.438' ... '13.000' '39.000' '16.000']\n",
      " ['2010-11-20' '18' '5.998' ... '22.000' '30.000' '16.000']]\n",
      "1.5831485999951838\n"
     ]
    }
   ],
   "source": [
    "starttime = tt.default_timer()\n",
    "househ18 = darray[(darray[:,1].astype('timedelta64')>=np.timedelta64(18,'h')) & (darray[:,2].astype('float64')>5)]\n",
    "print('After 18 oclock')\n",
    "print(househ18)\n",
    "gr2_max = househ18[(househ18[:,-2].astype('float')>househ18[:,-3].astype('float')) \n",
    "                   & (househ18[:,-2].astype('float')>househ18[:,-1].astype('float'))]\n",
    "print('max 2 group')\n",
    "print(gr2_max)\n",
    "n = round(len(gr2_max)/2)\n",
    "res1 = (gr2_max[:n,:])[::3,:]\n",
    "res2 = (gr2_max[n:,:])[::4,:]\n",
    "print('part1:(every 3)')\n",
    "print(res1)\n",
    "print('part2:(every 4)')\n",
    "print(res2)\n",
    "print(tt.default_timer()-starttime)"
   ]
  }
 ],
 "metadata": {
  "kernelspec": {
   "display_name": "Python 3",
   "language": "python",
   "name": "python3"
  },
  "language_info": {
   "codemirror_mode": {
    "name": "ipython",
    "version": 3
   },
   "file_extension": ".py",
   "mimetype": "text/x-python",
   "name": "python",
   "nbconvert_exporter": "python",
   "pygments_lexer": "ipython3",
   "version": "3.11.4"
  }
 },
 "nbformat": 4,
 "nbformat_minor": 2
}
